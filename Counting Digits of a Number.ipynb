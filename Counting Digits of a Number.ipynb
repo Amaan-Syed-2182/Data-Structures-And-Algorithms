{
 "cells": [
  {
   "cell_type": "markdown",
   "id": "f62849c6-e28f-465c-a148-bc495a3daa6c",
   "metadata": {},
   "source": [
    "# Count number of Digits"
   ]
  },
  {
   "cell_type": "code",
   "execution_count": 3,
   "id": "23e7bdab-ce3e-4eb3-a8a4-e4ccb4e0c49b",
   "metadata": {},
   "outputs": [
    {
     "name": "stdin",
     "output_type": "stream",
     "text": [
      "Enter the Number:  1234\n"
     ]
    },
    {
     "name": "stdout",
     "output_type": "stream",
     "text": [
      "Number of Digits are: 4\n"
     ]
    }
   ],
   "source": [
    "from math import *\n",
    "n = int(input(\"Enter the Number: \"))\n",
    "original = n\n",
    "count = 0\n",
    "while(n>0):\n",
    "    count += 1\n",
    "    n //= 10\n",
    "\n",
    "print(f\"Number of Digits are: {count}\")"
   ]
  },
  {
   "cell_type": "code",
   "execution_count": 11,
   "id": "3ca02fcb-a52b-444d-b5ae-38cfb901f37c",
   "metadata": {},
   "outputs": [
    {
     "name": "stdin",
     "output_type": "stream",
     "text": [
      "Enter the Number:  1234\n"
     ]
    },
    {
     "data": {
      "text/plain": [
       "4"
      ]
     },
     "execution_count": 11,
     "metadata": {},
     "output_type": "execute_result"
    }
   ],
   "source": [
    "# Using log10()\n",
    "n = int(input(\"Enter the Number: \"))\n",
    "def count_digits(n):\n",
    "    return int(log10(n)+1)\n",
    "count_digits(n)"
   ]
  }
 ],
 "metadata": {
  "kernelspec": {
   "display_name": "Python [conda env:base] *",
   "language": "python",
   "name": "conda-base-py"
  },
  "language_info": {
   "codemirror_mode": {
    "name": "ipython",
    "version": 3
   },
   "file_extension": ".py",
   "mimetype": "text/x-python",
   "name": "python",
   "nbconvert_exporter": "python",
   "pygments_lexer": "ipython3",
   "version": "3.12.7"
  }
 },
 "nbformat": 4,
 "nbformat_minor": 5
}
