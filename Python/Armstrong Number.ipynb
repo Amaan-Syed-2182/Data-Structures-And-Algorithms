{
 "cells": [
  {
   "cell_type": "markdown",
   "id": "0efee708-13dc-4962-80ec-5e8708b62afb",
   "metadata": {},
   "source": [
    "# Armstrong Number:"
   ]
  },
  {
   "cell_type": "code",
   "execution_count": 12,
   "id": "010f3a4f-0564-4079-9ec9-b59fd2af5852",
   "metadata": {},
   "outputs": [
    {
     "name": "stdin",
     "output_type": "stream",
     "text": [
      "Enter the Number:  153\n"
     ]
    },
    {
     "name": "stdout",
     "output_type": "stream",
     "text": [
      "Armstrong\n"
     ]
    }
   ],
   "source": [
    "n = int(input(\"Enter the Number: \"))\n",
    "original = n\n",
    "total = 0\n",
    "length = len(str(n))\n",
    "while(n>0):\n",
    "    digit = n%10\n",
    "    total += digit ** length\n",
    "    n //= 10\n",
    "\n",
    "if(original == total):\n",
    "    print(\"Armstrong\")\n",
    "else:\n",
    "    print(\"Not Armstrong\")"
   ]
  },
  {
   "cell_type": "code",
   "execution_count": null,
   "id": "35530145-5dad-4d97-9959-ce0b3998daee",
   "metadata": {},
   "outputs": [],
   "source": []
  }
 ],
 "metadata": {
  "kernelspec": {
   "display_name": "Python [conda env:base] *",
   "language": "python",
   "name": "conda-base-py"
  },
  "language_info": {
   "codemirror_mode": {
    "name": "ipython",
    "version": 3
   },
   "file_extension": ".py",
   "mimetype": "text/x-python",
   "name": "python",
   "nbconvert_exporter": "python",
   "pygments_lexer": "ipython3",
   "version": "3.12.7"
  }
 },
 "nbformat": 4,
 "nbformat_minor": 5
}
