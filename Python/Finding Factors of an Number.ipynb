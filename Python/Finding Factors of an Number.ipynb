{
 "cells": [
  {
   "cell_type": "markdown",
   "id": "bb8c3d82-2dcd-405e-adc9-5a425c75c02d",
   "metadata": {},
   "source": [
    "# FACTORS OF AN NUMBER:"
   ]
  },
  {
   "cell_type": "code",
   "execution_count": 38,
   "id": "26204daa-a018-453a-8ff7-fcebd01fc98c",
   "metadata": {},
   "outputs": [
    {
     "name": "stdin",
     "output_type": "stream",
     "text": [
      "Enter a Number:  22\n"
     ]
    },
    {
     "data": {
      "text/plain": [
       "[1, 2, 11, 22]"
      ]
     },
     "execution_count": 38,
     "metadata": {},
     "output_type": "execute_result"
    }
   ],
   "source": [
    "n = int(input(\"Enter a Number: \"))\n",
    "def factors(n):\n",
    "    fact = []\n",
    "    for i in range(1,n+1):\n",
    "        if(n%i==0):\n",
    "            fact.append(i)\n",
    "        \n",
    "    return fact\n",
    "\n",
    "factors(n)"
   ]
  },
  {
   "cell_type": "code",
   "execution_count": 34,
   "id": "51c4a041-8fdd-49b9-9513-a14af13fb0f7",
   "metadata": {},
   "outputs": [
    {
     "name": "stdin",
     "output_type": "stream",
     "text": [
      "Enter a Number:  550\n"
     ]
    },
    {
     "data": {
      "text/plain": [
       "[1, 2, 5, 10, 11, 22, 25, 50, 55, 110, 275, 550]"
      ]
     },
     "execution_count": 34,
     "metadata": {},
     "output_type": "execute_result"
    }
   ],
   "source": [
    "# More Optimal Solution\n",
    "n = int(input(\"Enter a Number: \"))\n",
    "def factors(n):\n",
    "    fact = []\n",
    "    for i in range(1,(n//2)+1):\n",
    "        if(n%i==0):\n",
    "            fact.append(i)\n",
    "    fact.append(n) \n",
    "    return fact\n",
    "\n",
    "factors(n)"
   ]
  },
  {
   "cell_type": "code",
   "execution_count": 50,
   "id": "4cb9ae6f-7421-4f5d-a684-1eb2273f0c01",
   "metadata": {},
   "outputs": [
    {
     "name": "stdin",
     "output_type": "stream",
     "text": [
      "Enter a Number:  550\n"
     ]
    },
    {
     "data": {
      "text/plain": [
       "[1, 2, 5, 10, 11, 50, 55, 110, 275, 550]"
      ]
     },
     "execution_count": 50,
     "metadata": {},
     "output_type": "execute_result"
    }
   ],
   "source": [
    "from math import sqrt\n",
    "\n",
    "n = int(input(\"Enter a Number: \"))\n",
    "\n",
    "def factors(n):\n",
    "    fact = []\n",
    "    for i in range(1, int(sqrt(n)) + 1):\n",
    "        if n % i == 0:          # If i divides n\n",
    "            fact.append(i)      # Add the smaller factor\n",
    "            if i != n // i:     # Avoid duplicate when i == sqrt(n)\n",
    "                fact.append(n // i)  # Add the larger factor\n",
    "    fact.sort()\n",
    "    return fact\n",
    "\n",
    "print(factors(n))\n"
   ]
  },
  {
   "cell_type": "code",
   "execution_count": null,
   "id": "6b0c7338-a9f0-46a8-a4b0-a365859b0562",
   "metadata": {},
   "outputs": [],
   "source": []
  }
 ],
 "metadata": {
  "kernelspec": {
   "display_name": "Python [conda env:base] *",
   "language": "python",
   "name": "conda-base-py"
  },
  "language_info": {
   "codemirror_mode": {
    "name": "ipython",
    "version": 3
   },
   "file_extension": ".py",
   "mimetype": "text/x-python",
   "name": "python",
   "nbconvert_exporter": "python",
   "pygments_lexer": "ipython3",
   "version": "3.12.7"
  }
 },
 "nbformat": 4,
 "nbformat_minor": 5
}
