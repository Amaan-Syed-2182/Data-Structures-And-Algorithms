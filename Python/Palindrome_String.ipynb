{
 "cells": [
  {
   "cell_type": "markdown",
   "id": "b19b4f16-fd08-40cb-a282-8b7013227535",
   "metadata": {},
   "source": [
    "# Palindrome String"
   ]
  },
  {
   "cell_type": "code",
   "execution_count": 16,
   "id": "dc026ca2-edd0-48c9-be6a-0d0d57cbff8e",
   "metadata": {},
   "outputs": [
    {
     "name": "stdin",
     "output_type": "stream",
     "text": [
      "Enter String:  amaan\n"
     ]
    },
    {
     "name": "stdout",
     "output_type": "stream",
     "text": [
      "Not Palindrome\n"
     ]
    }
   ],
   "source": [
    "s = input(\"Enter String: \")\n",
    "start = 0\n",
    "end = len(s)-1\n",
    "out = 0\n",
    "while(start<=end):\n",
    "    if(s[start] != s[end]):\n",
    "        out += 1\n",
    "        break\n",
    "    start+=1\n",
    "    end-=1\n",
    "\n",
    "if(out==0):\n",
    "    print(\"Palindrome\")\n",
    "else:\n",
    "    print(\"Not Palindrome\")\n"
   ]
  },
  {
   "cell_type": "code",
   "execution_count": 42,
   "id": "52013935-6eab-4f2d-b204-fc3cb0f694b9",
   "metadata": {},
   "outputs": [
    {
     "name": "stdin",
     "output_type": "stream",
     "text": [
      "Enter the String:  amaan\n"
     ]
    },
    {
     "name": "stdout",
     "output_type": "stream",
     "text": [
      "Not Palindrome\n"
     ]
    }
   ],
   "source": [
    "# Using Recursion\n",
    "s = input(\"Enter the String: \")\n",
    "def palindrome(s,start,end):\n",
    "    if(start>=end):\n",
    "        return True\n",
    "    if(s[start] != s[end]):\n",
    "        return False\n",
    "    return palindrome(s,start+1,end-1)\n",
    "\n",
    "if(palindrome(s,start,len(s)-1)):\n",
    "    print(\"Palindrome\")\n",
    "else:\n",
    "    print(\"Not Palindrome\")\n",
    "\n"
   ]
  },
  {
   "cell_type": "code",
   "execution_count": null,
   "id": "e263b300-0480-41d6-bd8c-490524098dce",
   "metadata": {},
   "outputs": [],
   "source": []
  }
 ],
 "metadata": {
  "kernelspec": {
   "display_name": "Python [conda env:base] *",
   "language": "python",
   "name": "conda-base-py"
  },
  "language_info": {
   "codemirror_mode": {
    "name": "ipython",
    "version": 3
   },
   "file_extension": ".py",
   "mimetype": "text/x-python",
   "name": "python",
   "nbconvert_exporter": "python",
   "pygments_lexer": "ipython3",
   "version": "3.12.7"
  }
 },
 "nbformat": 4,
 "nbformat_minor": 5
}
