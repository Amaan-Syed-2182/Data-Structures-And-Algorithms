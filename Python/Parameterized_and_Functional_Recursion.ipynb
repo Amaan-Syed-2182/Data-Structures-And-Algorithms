{
 "cells": [
  {
   "cell_type": "markdown",
   "id": "24a11774-14ea-4621-9ff8-25539e0d6b89",
   "metadata": {},
   "source": [
    "# Parameterized and Functional Recursion"
   ]
  },
  {
   "cell_type": "code",
   "execution_count": 37,
   "id": "89a235c0-2099-47b9-a959-8039de497da7",
   "metadata": {},
   "outputs": [
    {
     "name": "stdout",
     "output_type": "stream",
     "text": [
      "15\n"
     ]
    }
   ],
   "source": [
    "# Print Sum of N natural numbers\n",
    "# Parameterized not returning any thing\n",
    "def summing(sum,i,n):\n",
    "    if(i>n):\n",
    "        print(sum)\n",
    "        return \n",
    "    summing(sum+i,i+1,n)\n",
    "\n",
    "summing(0,1,5)"
   ]
  },
  {
   "cell_type": "code",
   "execution_count": 43,
   "id": "23c3b697-2333-45bf-9881-1eb5c73daea3",
   "metadata": {},
   "outputs": [
    {
     "data": {
      "text/plain": [
       "15"
      ]
     },
     "execution_count": 43,
     "metadata": {},
     "output_type": "execute_result"
    }
   ],
   "source": [
    "# Print Sum of N natural numbers\n",
    "# Functional Recursion because we are returning a recursive value\n",
    "def summing(n):\n",
    "    if(n==1):\n",
    "        return 1\n",
    "    return n+summing(n-1)\n",
    "    \n",
    "\n",
    "summing(5)"
   ]
  },
  {
   "cell_type": "code",
   "execution_count": 45,
   "id": "f447eb12-9b68-4aa7-9826-687a5b7f1379",
   "metadata": {},
   "outputs": [
    {
     "data": {
      "text/plain": [
       "120"
      ]
     },
     "execution_count": 45,
     "metadata": {},
     "output_type": "execute_result"
    }
   ],
   "source": [
    "# Print Factorial of n\n",
    "def factorial(n):\n",
    "    if(n==0 or n==1):\n",
    "        return 1\n",
    "    return n*factorial(n-1)\n",
    "\n",
    "factorial(5)"
   ]
  },
  {
   "cell_type": "code",
   "execution_count": null,
   "id": "d07b7af1-7ffb-4686-9c42-5fe4674cff2f",
   "metadata": {},
   "outputs": [],
   "source": []
  }
 ],
 "metadata": {
  "kernelspec": {
   "display_name": "Python [conda env:base] *",
   "language": "python",
   "name": "conda-base-py"
  },
  "language_info": {
   "codemirror_mode": {
    "name": "ipython",
    "version": 3
   },
   "file_extension": ".py",
   "mimetype": "text/x-python",
   "name": "python",
   "nbconvert_exporter": "python",
   "pygments_lexer": "ipython3",
   "version": "3.12.7"
  }
 },
 "nbformat": 4,
 "nbformat_minor": 5
}
