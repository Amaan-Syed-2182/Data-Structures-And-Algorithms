{
 "cells": [
  {
   "cell_type": "markdown",
   "id": "fe2500c0-44a0-4830-baec-a1ac3aeede67",
   "metadata": {},
   "source": [
    "# Store frequency in dictionary"
   ]
  },
  {
   "cell_type": "code",
   "execution_count": 4,
   "id": "ba932977-5322-467d-bec6-ba567a8e3c4d",
   "metadata": {},
   "outputs": [
    {
     "name": "stdout",
     "output_type": "stream",
     "text": [
      "{1: 4, 2: 5, 3: 10, 4: 6, 5: 5, 6: 3, 7: 1, 56: 1, 8: 1, 76: 1, 54: 1, 45: 1}\n"
     ]
    }
   ],
   "source": [
    "lst = [1,2,3,4,1,2,3,4,5,6,7,6,5,4,3,2,3,4,56,6,8,76,54,3,4,3,2,3,5,3,1,1,5,3,45,5,4,3,2]\n",
    "d = {}\n",
    "for i in lst:\n",
    "    if(i not in d):\n",
    "        d[i] = 1\n",
    "    else:\n",
    "        d[i] += 1\n",
    "\n",
    "print(d)"
   ]
  },
  {
   "cell_type": "code",
   "execution_count": 6,
   "id": "dc132dfc-86e8-4bdb-b71f-7c704afe8bd4",
   "metadata": {},
   "outputs": [
    {
     "name": "stdout",
     "output_type": "stream",
     "text": [
      "{1: 4, 2: 5, 3: 10, 4: 6, 5: 5, 6: 3, 7: 1, 56: 1, 8: 1, 76: 1, 54: 1, 45: 1}\n"
     ]
    }
   ],
   "source": [
    "lst = [1,2,3,4,1,2,3,4,5,6,7,6,5,4,3,2,3,4,56,6,8,76,54,3,4,3,2,3,5,3,1,1,5,3,45,5,4,3,2]\n",
    "d = {}\n",
    "\n",
    "for i in range(0,len(lst)):\n",
    "    d[lst[i]] = d.get(lst[i],0)+1\n",
    "\n",
    "print(d)"
   ]
  },
  {
   "cell_type": "code",
   "execution_count": 10,
   "id": "86c11a25-984e-4794-9eb7-158f303443be",
   "metadata": {},
   "outputs": [
    {
     "data": {
      "text/plain": [
       "{1: 4, 2: 5, 3: 10, 4: 6, 5: 5, 6: 3, 7: 1, 56: 1, 8: 1, 76: 1, 54: 1, 45: 1}"
      ]
     },
     "execution_count": 10,
     "metadata": {},
     "output_type": "execute_result"
    }
   ],
   "source": [
    "lst = [1,2,3,4,1,2,3,4,5,6,7,6,5,4,3,2,3,4,56,6,8,76,54,3,4,3,2,3,5,3,1,1,5,3,45,5,4,3,2]\n",
    "d = {}\n",
    "for i in range(0,len(lst)):\n",
    "    d[lst[i]] = d.get(lst[i],0)+1\n",
    "\n",
    "d"
   ]
  },
  {
   "cell_type": "code",
   "execution_count": null,
   "id": "b07e6daa-d069-4809-8eae-b8dd28ceda38",
   "metadata": {},
   "outputs": [],
   "source": []
  }
 ],
 "metadata": {
  "kernelspec": {
   "display_name": "Python [conda env:base] *",
   "language": "python",
   "name": "conda-base-py"
  },
  "language_info": {
   "codemirror_mode": {
    "name": "ipython",
    "version": 3
   },
   "file_extension": ".py",
   "mimetype": "text/x-python",
   "name": "python",
   "nbconvert_exporter": "python",
   "pygments_lexer": "ipython3",
   "version": "3.12.7"
  }
 },
 "nbformat": 4,
 "nbformat_minor": 5
}
