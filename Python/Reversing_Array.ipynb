{
 "cells": [
  {
   "cell_type": "markdown",
   "id": "94a425cf-e316-4d70-ade7-7ab8452486b5",
   "metadata": {},
   "source": [
    "# Reverse an Array"
   ]
  },
  {
   "cell_type": "code",
   "execution_count": 2,
   "id": "65074ac2-d01d-429c-a758-34937018aa59",
   "metadata": {},
   "outputs": [
    {
     "data": {
      "text/plain": [
       "[9, 8, 7, 6, 1, 2, 3, 4, 5]"
      ]
     },
     "execution_count": 2,
     "metadata": {},
     "output_type": "execute_result"
    }
   ],
   "source": [
    "# Without Recursion\n",
    "x = [5,4,3,2,1,6,7,8,9]\n",
    "start = 0\n",
    "end = len(x)-1\n",
    "while(start<end):\n",
    "    x[start],x[end] = x[end],x[start]\n",
    "    start += 1\n",
    "    end -= 1\n",
    "x"
   ]
  },
  {
   "cell_type": "code",
   "execution_count": 22,
   "id": "597cb602-ad02-465e-b68b-b2fcfa759a26",
   "metadata": {},
   "outputs": [
    {
     "data": {
      "text/plain": [
       "[9, 8, 7, 6, 1, 2, 3, 4, 5]"
      ]
     },
     "execution_count": 22,
     "metadata": {},
     "output_type": "execute_result"
    }
   ],
   "source": [
    "# With Recursion\n",
    "x = [5,4,3,2,1,6,7,8,9]\n",
    "def reverse_array(x,start,end):\n",
    "    \n",
    "    if(start>=end):\n",
    "        return x\n",
    "    x[start],x[end] = x[end],x[start]\n",
    "    return reverse_array(x,start+1,end-1)\n",
    "\n",
    "reverse_array(x,0,len(x)-1)"
   ]
  }
 ],
 "metadata": {
  "kernelspec": {
   "display_name": "Python [conda env:base] *",
   "language": "python",
   "name": "conda-base-py"
  },
  "language_info": {
   "codemirror_mode": {
    "name": "ipython",
    "version": 3
   },
   "file_extension": ".py",
   "mimetype": "text/x-python",
   "name": "python",
   "nbconvert_exporter": "python",
   "pygments_lexer": "ipython3",
   "version": "3.12.7"
  }
 },
 "nbformat": 4,
 "nbformat_minor": 5
}
