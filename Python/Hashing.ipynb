{
 "cells": [
  {
   "cell_type": "markdown",
   "id": "a3bda527-0604-4fe9-b449-0236d3baa0ef",
   "metadata": {},
   "source": [
    "# Hashing"
   ]
  },
  {
   "cell_type": "code",
   "execution_count": 38,
   "id": "abddf4e2-faa8-4f75-9426-5563f94b6c48",
   "metadata": {},
   "outputs": [
    {
     "name": "stdout",
     "output_type": "stream",
     "text": [
      "10:1\n",
      "111:1\n",
      "1:1\n",
      "9:1\n",
      "5:1\n",
      "67:1\n",
      "2:1\n"
     ]
    }
   ],
   "source": [
    "n = [5,3,2,2,1,5,5,7,5,10]\n",
    "m = [10,111,1,9,5,67,2]\n",
    "for i in range(len(m)):\n",
    "    count = 0\n",
    "    for j in range(len(n)):\n",
    "        if(j==i):\n",
    "            count += 1\n",
    "    print(f\"{m[i]}:{count}\")"
   ]
  },
  {
   "cell_type": "code",
   "execution_count": 40,
   "id": "5f998237-1fce-4b95-8806-1fc807144403",
   "metadata": {},
   "outputs": [
    {
     "name": "stdout",
     "output_type": "stream",
     "text": [
      "10:1\n",
      "111:0\n",
      "1:1\n",
      "9:0\n",
      "5:4\n",
      "67:0\n",
      "2:2\n"
     ]
    }
   ],
   "source": [
    "n = [5,3,2,2,1,5,5,7,5,10]\n",
    "m = [10,111,1,9,5,67,2]\n",
    "hash_list = [0,0,0,0,0,0,0,0,0,0,0]\n",
    "for num in n:\n",
    "    hash_list[num] += 1\n",
    "\n",
    "for num in m:\n",
    "    if(num>10 or num<1):\n",
    "        print(f\"{num}:0\")\n",
    "    else:\n",
    "        print(f\"{num}:{hash_list[num]}\")"
   ]
  },
  {
   "cell_type": "code",
   "execution_count": 42,
   "id": "514e1940-6c2b-49fe-92d6-e7a1aa4a300d",
   "metadata": {},
   "outputs": [
    {
     "name": "stdout",
     "output_type": "stream",
     "text": [
      "10:1\n",
      "111:0\n",
      "1:1\n",
      "9:0\n",
      "5:4\n",
      "67:0\n",
      "2:2\n"
     ]
    }
   ],
   "source": [
    "# Using dictionary\n",
    "d = {}\n",
    "for i in n:\n",
    "    d[i] = d.get(i,0)+1\n",
    "\n",
    "for i in m:\n",
    "    if(i not in d):\n",
    "        print(f\"{i}:0\")\n",
    "    else:\n",
    "        print(f\"{i}:{d[i]}\")"
   ]
  },
  {
   "cell_type": "code",
   "execution_count": 48,
   "id": "6c167614-f563-4990-8970-892e32f7106c",
   "metadata": {},
   "outputs": [
    {
     "name": "stdout",
     "output_type": "stream",
     "text": [
      "a : 1\n",
      "c : 1\n",
      "d : 1\n",
      "h : 1\n",
      "i : 1\n",
      "x : 1\n",
      "z : 2\n",
      "j : 2\n"
     ]
    }
   ],
   "source": [
    "alpha = ['a','b','v','c','d','e','f','z','g','h','j','i','j','l','m','w','n','o','p','q','r','s','t','u','v','w','x','y','z']\n",
    "l = ['a','c','d','h','i','x','z','j']\n",
    "d_hash = {}\n",
    "for i in alpha:\n",
    "    d_hash[i] = d_hash.get(i,0)+1\n",
    "d_hash\n",
    "\n",
    "for i in l:\n",
    "    if(i not in d_hash):\n",
    "        print(f\"{i} : 0\")\n",
    "    else:\n",
    "        print(f\"{i} : {d_hash[i]}\")"
   ]
  },
  {
   "cell_type": "code",
   "execution_count": null,
   "id": "eb9d0446-16b0-467a-95b0-682e00ff255e",
   "metadata": {},
   "outputs": [],
   "source": []
  }
 ],
 "metadata": {
  "kernelspec": {
   "display_name": "Python [conda env:base] *",
   "language": "python",
   "name": "conda-base-py"
  },
  "language_info": {
   "codemirror_mode": {
    "name": "ipython",
    "version": 3
   },
   "file_extension": ".py",
   "mimetype": "text/x-python",
   "name": "python",
   "nbconvert_exporter": "python",
   "pygments_lexer": "ipython3",
   "version": "3.12.7"
  }
 },
 "nbformat": 4,
 "nbformat_minor": 5
}
