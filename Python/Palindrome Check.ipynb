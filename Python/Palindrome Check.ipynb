{
 "cells": [
  {
   "cell_type": "markdown",
   "id": "99639ca0-918d-4647-a5c6-9bcfa63360ea",
   "metadata": {},
   "source": [
    "# Checking Palindrome"
   ]
  },
  {
   "cell_type": "code",
   "execution_count": 10,
   "id": "99c2d102-d096-4d7c-8fc2-0f47285a918a",
   "metadata": {},
   "outputs": [
    {
     "name": "stdin",
     "output_type": "stream",
     "text": [
      "Enter the Number:  1441\n"
     ]
    },
    {
     "name": "stdout",
     "output_type": "stream",
     "text": [
      "Palindrome\n"
     ]
    }
   ],
   "source": [
    "n = int(input(\"Enter the Number: \"))\n",
    "original = n\n",
    "reverse = 0\n",
    "while(n>0):\n",
    "    digit = n%10\n",
    "    reverse = reverse*10 + digit\n",
    "    n //= 10\n",
    "\n",
    "if(reverse == original):\n",
    "    print(\"Palindrome\")\n",
    "else:\n",
    "    print(\"Not Palindrome\")"
   ]
  }
 ],
 "metadata": {
  "kernelspec": {
   "display_name": "Python [conda env:base] *",
   "language": "python",
   "name": "conda-base-py"
  },
  "language_info": {
   "codemirror_mode": {
    "name": "ipython",
    "version": 3
   },
   "file_extension": ".py",
   "mimetype": "text/x-python",
   "name": "python",
   "nbconvert_exporter": "python",
   "pygments_lexer": "ipython3",
   "version": "3.12.7"
  }
 },
 "nbformat": 4,
 "nbformat_minor": 5
}
