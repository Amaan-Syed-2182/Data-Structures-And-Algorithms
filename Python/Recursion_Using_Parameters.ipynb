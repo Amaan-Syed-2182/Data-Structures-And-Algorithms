{
 "cells": [
  {
   "cell_type": "markdown",
   "id": "10db7cfe-89cd-4539-8804-196746a3e085",
   "metadata": {},
   "source": [
    "# Recursion Using Parameters"
   ]
  },
  {
   "cell_type": "code",
   "execution_count": 5,
   "id": "bf7b0335-f021-4336-86c8-549cf84ecc54",
   "metadata": {},
   "outputs": [
    {
     "name": "stdout",
     "output_type": "stream",
     "text": [
      "15\n",
      "15\n",
      "15\n",
      "15\n",
      "15\n",
      "15\n"
     ]
    }
   ],
   "source": [
    "def num(x,n):\n",
    "    if(n==0):\n",
    "        return\n",
    "    print(x)\n",
    "    num(x,n-1)\n",
    "\n",
    "num(15,6)"
   ]
  },
  {
   "cell_type": "code",
   "execution_count": 17,
   "id": "670d6f03-ad61-46d6-a71a-1a7023d58833",
   "metadata": {},
   "outputs": [
    {
     "data": {
      "text/plain": [
       "120"
      ]
     },
     "execution_count": 17,
     "metadata": {},
     "output_type": "execute_result"
    }
   ],
   "source": [
    "# Factorial using Recursion\n",
    "def fact(n):\n",
    "    if(n==0 or n==1):\n",
    "        return 1\n",
    "    return n*fact(n-1)\n",
    "    \n",
    "\n",
    "fact(5)"
   ]
  },
  {
   "cell_type": "code",
   "execution_count": 41,
   "id": "98fdd444-c15c-419e-b9a6-33b0e60119bf",
   "metadata": {},
   "outputs": [
    {
     "name": "stdout",
     "output_type": "stream",
     "text": [
      "1\n",
      "2\n",
      "3\n",
      "4\n",
      "5\n"
     ]
    }
   ],
   "source": [
    "# Printing 1 to n Using Head Recursion\n",
    "def printing(start,end):\n",
    "    if(start>end):\n",
    "        return 1\n",
    "    print(start)\n",
    "    printing(start+1,end)\n",
    "\n",
    "printing(1,5)"
   ]
  },
  {
   "cell_type": "code",
   "execution_count": 43,
   "id": "424b9de8-799f-4fa9-94df-7f5e803d8d80",
   "metadata": {},
   "outputs": [
    {
     "name": "stdout",
     "output_type": "stream",
     "text": [
      "1\n",
      "2\n",
      "3\n",
      "4\n",
      "5\n"
     ]
    }
   ],
   "source": [
    "# 1 to n Using Tail Recursion\n",
    "def printing(n):\n",
    "    if(n==0):\n",
    "        return\n",
    "    printing(n-1)\n",
    "    print(n)\n",
    "    \n",
    "printing(5)"
   ]
  },
  {
   "cell_type": "code",
   "execution_count": 45,
   "id": "7aeead43-b901-45f5-8d46-6304c6257f94",
   "metadata": {},
   "outputs": [
    {
     "name": "stdout",
     "output_type": "stream",
     "text": [
      "5\n",
      "4\n",
      "3\n",
      "2\n",
      "1\n"
     ]
    }
   ],
   "source": [
    "# n to 1 using head recursion\n",
    "def printing(n):\n",
    "    if(n==0):\n",
    "        return\n",
    "    print(n)\n",
    "    printing(n-1)\n",
    "\n",
    "    \n",
    "printing(5)"
   ]
  },
  {
   "cell_type": "code",
   "execution_count": 47,
   "id": "dc9824e9-b915-4d0a-9314-68f3221883d4",
   "metadata": {},
   "outputs": [
    {
     "name": "stdout",
     "output_type": "stream",
     "text": [
      "5\n",
      "4\n",
      "3\n",
      "2\n",
      "1\n"
     ]
    }
   ],
   "source": [
    "# Printing n to 1 using tail Recursion\n",
    "def printing(start,end):\n",
    "    if(start>end):\n",
    "        return 1\n",
    "    printing(start+1,end)\n",
    "    print(start)\n",
    "\n",
    "\n",
    "printing(1,5)"
   ]
  }
 ],
 "metadata": {
  "kernelspec": {
   "display_name": "Python [conda env:base] *",
   "language": "python",
   "name": "conda-base-py"
  },
  "language_info": {
   "codemirror_mode": {
    "name": "ipython",
    "version": 3
   },
   "file_extension": ".py",
   "mimetype": "text/x-python",
   "name": "python",
   "nbconvert_exporter": "python",
   "pygments_lexer": "ipython3",
   "version": "3.12.7"
  }
 },
 "nbformat": 4,
 "nbformat_minor": 5
}
